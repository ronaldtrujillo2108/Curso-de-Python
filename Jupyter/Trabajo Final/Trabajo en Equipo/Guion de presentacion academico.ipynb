{
 "cells": [
  {
   "cell_type": "code",
   "execution_count": 88,
   "id": "43b74db6",
   "metadata": {},
   "outputs": [
    {
     "name": "stdout",
     "output_type": "stream",
     "text": [
      "Requirement already satisfied: pandas in c:\\users\\ronald2108\\downloads\\curso-de-python\\.venv\\lib\\site-packages (2.3.1)\n",
      "Requirement already satisfied: docxtpl in c:\\users\\ronald2108\\downloads\\curso-de-python\\.venv\\lib\\site-packages (0.20.1)\n",
      "Requirement already satisfied: openpyxl in c:\\users\\ronald2108\\downloads\\curso-de-python\\.venv\\lib\\site-packages (3.1.5)\n",
      "Requirement already satisfied: docx2pdf in c:\\users\\ronald2108\\downloads\\curso-de-python\\.venv\\lib\\site-packages (0.1.8)\n",
      "Requirement already satisfied: gTTS in c:\\users\\ronald2108\\downloads\\curso-de-python\\.venv\\lib\\site-packages (2.5.4)\n",
      "Collecting pyttsx3\n",
      "  Downloading pyttsx3-2.99-py3-none-any.whl.metadata (6.2 kB)\n",
      "Collecting comtypes\n",
      "  Downloading comtypes-1.4.11-py3-none-any.whl.metadata (7.2 kB)\n",
      "Requirement already satisfied: numpy>=1.23.2 in c:\\users\\ronald2108\\downloads\\curso-de-python\\.venv\\lib\\site-packages (from pandas) (2.3.2)\n",
      "Requirement already satisfied: python-dateutil>=2.8.2 in c:\\users\\ronald2108\\downloads\\curso-de-python\\.venv\\lib\\site-packages (from pandas) (2.9.0.post0)\n",
      "Requirement already satisfied: pytz>=2020.1 in c:\\users\\ronald2108\\downloads\\curso-de-python\\.venv\\lib\\site-packages (from pandas) (2025.2)\n",
      "Requirement already satisfied: tzdata>=2022.7 in c:\\users\\ronald2108\\downloads\\curso-de-python\\.venv\\lib\\site-packages (from pandas) (2025.2)\n",
      "Requirement already satisfied: python-docx>=1.1.1 in c:\\users\\ronald2108\\downloads\\curso-de-python\\.venv\\lib\\site-packages (from docxtpl) (1.2.0)\n",
      "Requirement already satisfied: docxcompose in c:\\users\\ronald2108\\downloads\\curso-de-python\\.venv\\lib\\site-packages (from docxtpl) (1.4.0)\n",
      "Requirement already satisfied: jinja2 in c:\\users\\ronald2108\\downloads\\curso-de-python\\.venv\\lib\\site-packages (from docxtpl) (3.1.6)\n",
      "Requirement already satisfied: lxml in c:\\users\\ronald2108\\downloads\\curso-de-python\\.venv\\lib\\site-packages (from docxtpl) (6.0.0)\n",
      "Requirement already satisfied: et-xmlfile in c:\\users\\ronald2108\\downloads\\curso-de-python\\.venv\\lib\\site-packages (from openpyxl) (2.0.0)\n",
      "Requirement already satisfied: pywin32>=227 in c:\\users\\ronald2108\\downloads\\curso-de-python\\.venv\\lib\\site-packages (from docx2pdf) (311)\n",
      "Requirement already satisfied: tqdm>=4.41.0 in c:\\users\\ronald2108\\downloads\\curso-de-python\\.venv\\lib\\site-packages (from docx2pdf) (4.67.1)\n",
      "Requirement already satisfied: requests<3,>=2.27 in c:\\users\\ronald2108\\downloads\\curso-de-python\\.venv\\lib\\site-packages (from gTTS) (2.32.4)\n",
      "Requirement already satisfied: click<8.2,>=7.1 in c:\\users\\ronald2108\\downloads\\curso-de-python\\.venv\\lib\\site-packages (from gTTS) (8.1.8)\n",
      "Requirement already satisfied: colorama in c:\\users\\ronald2108\\downloads\\curso-de-python\\.venv\\lib\\site-packages (from click<8.2,>=7.1->gTTS) (0.4.6)\n",
      "Requirement already satisfied: charset_normalizer<4,>=2 in c:\\users\\ronald2108\\downloads\\curso-de-python\\.venv\\lib\\site-packages (from requests<3,>=2.27->gTTS) (3.4.2)\n",
      "Requirement already satisfied: idna<4,>=2.5 in c:\\users\\ronald2108\\downloads\\curso-de-python\\.venv\\lib\\site-packages (from requests<3,>=2.27->gTTS) (3.10)\n",
      "Requirement already satisfied: urllib3<3,>=1.21.1 in c:\\users\\ronald2108\\downloads\\curso-de-python\\.venv\\lib\\site-packages (from requests<3,>=2.27->gTTS) (2.5.0)\n",
      "Requirement already satisfied: certifi>=2017.4.17 in c:\\users\\ronald2108\\downloads\\curso-de-python\\.venv\\lib\\site-packages (from requests<3,>=2.27->gTTS) (2025.7.14)\n",
      "Collecting pypiwin32 (from pyttsx3)\n",
      "  Downloading pypiwin32-223-py3-none-any.whl.metadata (236 bytes)\n",
      "Requirement already satisfied: six>=1.5 in c:\\users\\ronald2108\\downloads\\curso-de-python\\.venv\\lib\\site-packages (from python-dateutil>=2.8.2->pandas) (1.17.0)\n",
      "Requirement already satisfied: typing_extensions>=4.9.0 in c:\\users\\ronald2108\\downloads\\curso-de-python\\.venv\\lib\\site-packages (from python-docx>=1.1.1->docxtpl) (4.14.1)\n",
      "Requirement already satisfied: setuptools in c:\\users\\ronald2108\\downloads\\curso-de-python\\.venv\\lib\\site-packages (from docxcompose->docxtpl) (65.5.0)\n",
      "Requirement already satisfied: babel in c:\\users\\ronald2108\\downloads\\curso-de-python\\.venv\\lib\\site-packages (from docxcompose->docxtpl) (2.17.0)\n",
      "Requirement already satisfied: MarkupSafe>=2.0 in c:\\users\\ronald2108\\downloads\\curso-de-python\\.venv\\lib\\site-packages (from jinja2->docxtpl) (3.0.2)\n",
      "Downloading pyttsx3-2.99-py3-none-any.whl (32 kB)\n",
      "Downloading comtypes-1.4.11-py3-none-any.whl (246 kB)\n",
      "Downloading pypiwin32-223-py3-none-any.whl (1.7 kB)\n",
      "Installing collected packages: pypiwin32, comtypes, pyttsx3\n",
      "\n",
      "   ------------- -------------------------- 1/3 [comtypes]\n",
      "   ------------- -------------------------- 1/3 [comtypes]\n",
      "   ------------- -------------------------- 1/3 [comtypes]\n",
      "   ------------- -------------------------- 1/3 [comtypes]\n",
      "   ------------- -------------------------- 1/3 [comtypes]\n",
      "   ------------- -------------------------- 1/3 [comtypes]\n",
      "   ------------- -------------------------- 1/3 [comtypes]\n",
      "   ------------- -------------------------- 1/3 [comtypes]\n",
      "   ------------- -------------------------- 1/3 [comtypes]\n",
      "   ------------- -------------------------- 1/3 [comtypes]\n",
      "   ------------- -------------------------- 1/3 [comtypes]\n",
      "   ------------- -------------------------- 1/3 [comtypes]\n",
      "   ------------- -------------------------- 1/3 [comtypes]\n",
      "   -------------------------- ------------- 2/3 [pyttsx3]\n",
      "   ---------------------------------------- 3/3 [pyttsx3]\n",
      "\n",
      "Successfully installed comtypes-1.4.11 pypiwin32-223 pyttsx3-2.99\n"
     ]
    }
   ],
   "source": [
    "!pip install pandas docxtpl openpyxl docx2pdf gTTS pyttsx3 comtypes\n"
   ]
  },
  {
   "cell_type": "code",
   "execution_count": 63,
   "id": "4abfb3cb",
   "metadata": {},
   "outputs": [],
   "source": [
    "import pandas as pd\n",
    "from docxtpl import DocxTemplate\n",
    "from docx2pdf import convert\n",
    "from gtts import gTTS"
   ]
  },
  {
   "cell_type": "code",
   "execution_count": 64,
   "id": "af696c24",
   "metadata": {},
   "outputs": [],
   "source": [
    "df = pd.read_excel('presentacion.xlsx')"
   ]
  },
  {
   "cell_type": "code",
   "execution_count": 65,
   "id": "b427d6b1",
   "metadata": {},
   "outputs": [
    {
     "data": {
      "text/html": [
       "<div>\n",
       "<style scoped>\n",
       "    .dataframe tbody tr th:only-of-type {\n",
       "        vertical-align: middle;\n",
       "    }\n",
       "\n",
       "    .dataframe tbody tr th {\n",
       "        vertical-align: top;\n",
       "    }\n",
       "\n",
       "    .dataframe thead th {\n",
       "        text-align: right;\n",
       "    }\n",
       "</style>\n",
       "<table border=\"1\" class=\"dataframe\">\n",
       "  <thead>\n",
       "    <tr style=\"text-align: right;\">\n",
       "      <th></th>\n",
       "      <th>Tema</th>\n",
       "      <th>Subtemas</th>\n",
       "      <th>Resumen</th>\n",
       "      <th>Conclusión</th>\n",
       "    </tr>\n",
       "  </thead>\n",
       "  <tbody>\n",
       "    <tr>\n",
       "      <th>0</th>\n",
       "      <td>La mitología en One Piece</td>\n",
       "      <td>Los poderes de las Frutas del Diablo</td>\n",
       "      <td>Las Frutas del Diablo se inspiran en mitología...</td>\n",
       "      <td>One Piece utiliza una rica mitología para cons...</td>\n",
       "    </tr>\n",
       "    <tr>\n",
       "      <th>1</th>\n",
       "      <td>NaN</td>\n",
       "      <td>Los Símbolos de las facciones</td>\n",
       "      <td>Los emblemas de facciones como el del Gobierno...</td>\n",
       "      <td>NaN</td>\n",
       "    </tr>\n",
       "    <tr>\n",
       "      <th>2</th>\n",
       "      <td>NaN</td>\n",
       "      <td>La historia del Siglo Vacío</td>\n",
       "      <td>El misterio del Siglo Vacío se relaciona con u...</td>\n",
       "      <td>NaN</td>\n",
       "    </tr>\n",
       "  </tbody>\n",
       "</table>\n",
       "</div>"
      ],
      "text/plain": [
       "                        Tema                              Subtemas  \\\n",
       "0  La mitología en One Piece  Los poderes de las Frutas del Diablo   \n",
       "1                        NaN         Los Símbolos de las facciones   \n",
       "2                        NaN           La historia del Siglo Vacío   \n",
       "\n",
       "                                             Resumen  \\\n",
       "0  Las Frutas del Diablo se inspiran en mitología...   \n",
       "1  Los emblemas de facciones como el del Gobierno...   \n",
       "2  El misterio del Siglo Vacío se relaciona con u...   \n",
       "\n",
       "                                          Conclusión  \n",
       "0  One Piece utiliza una rica mitología para cons...  \n",
       "1                                                NaN  \n",
       "2                                                NaN  "
      ]
     },
     "execution_count": 65,
     "metadata": {},
     "output_type": "execute_result"
    }
   ],
   "source": [
    "df"
   ]
  },
  {
   "cell_type": "code",
   "execution_count": 76,
   "id": "3269a7f0",
   "metadata": {},
   "outputs": [],
   "source": [
    "Tema = df.loc[0, 'Tema']\n",
    "Subtemas = df.loc[0, 'Subtemas'].split(',')\n",
    "Resumen = df.loc[0, 'Resumen']\n",
    "Conclusion = df.loc[0, 'Conclusión']"
   ]
  },
  {
   "cell_type": "code",
   "execution_count": null,
   "id": "ce4b6e64",
   "metadata": {},
   "outputs": [],
   "source": [
    "doc = DocxTemplate(\"plantilla.docx\")\n"
   ]
  },
  {
   "cell_type": "code",
   "execution_count": 80,
   "id": "7342301c",
   "metadata": {},
   "outputs": [],
   "source": [
    "contexto = {\n",
    "    'Tema': Tema,\n",
    "    'Subtemas': ', '.join([s.strip() for s in Subtemas]),\n",
    "    'Resumen': Resumen,\n",
    "    'Conclusión': Conclusion\n",
    "}"
   ]
  },
  {
   "cell_type": "code",
   "execution_count": 90,
   "id": "3def122e",
   "metadata": {},
   "outputs": [
    {
     "ename": "com_error",
     "evalue": "(-2147221008, 'No se ha llamado a CoInitialize.', None, None)",
     "output_type": "error",
     "traceback": [
      "\u001b[31m---------------------------------------------------------------------------\u001b[39m",
      "\u001b[31mcom_error\u001b[39m                                 Traceback (most recent call last)",
      "\u001b[36mFile \u001b[39m\u001b[32mc:\\Users\\Ronald2108\\Downloads\\Curso-de-Python\\.venv\\Lib\\site-packages\\win32com\\client\\dynamic.py:81\u001b[39m, in \u001b[36m_GetGoodDispatch\u001b[39m\u001b[34m(IDispatch, clsctx)\u001b[39m\n\u001b[32m     80\u001b[39m \u001b[38;5;28;01mtry\u001b[39;00m:\n\u001b[32m---> \u001b[39m\u001b[32m81\u001b[39m     IDispatch = \u001b[43mpythoncom\u001b[49m\u001b[43m.\u001b[49m\u001b[43mconnect\u001b[49m\u001b[43m(\u001b[49m\u001b[43mIDispatch\u001b[49m\u001b[43m)\u001b[49m\n\u001b[32m     82\u001b[39m \u001b[38;5;28;01mexcept\u001b[39;00m pythoncom.ole_error:\n",
      "\u001b[31mcom_error\u001b[39m: (-2147221008, 'No se ha llamado a CoInitialize.', None, None)",
      "\nDuring handling of the above exception, another exception occurred:\n",
      "\u001b[31mcom_error\u001b[39m                                 Traceback (most recent call last)",
      "\u001b[36mCell\u001b[39m\u001b[36m \u001b[39m\u001b[32mIn[90]\u001b[39m\u001b[32m, line 3\u001b[39m\n\u001b[32m      1\u001b[39m doc.render(contexto)\n\u001b[32m      2\u001b[39m doc.save(\u001b[33m'\u001b[39m\u001b[33mguion_presentacion.docx\u001b[39m\u001b[33m'\u001b[39m)\n\u001b[32m----> \u001b[39m\u001b[32m3\u001b[39m \u001b[43mconvert\u001b[49m\u001b[43m(\u001b[49m\u001b[33;43m'\u001b[39;49m\u001b[33;43mguion_presentacion.docx\u001b[39;49m\u001b[33;43m'\u001b[39;49m\u001b[43m)\u001b[49m\n\u001b[32m      5\u001b[39m texto_audio = \u001b[33mf\u001b[39m\u001b[33m\"\u001b[39m\u001b[38;5;132;01m{\u001b[39;00mTema\u001b[38;5;132;01m}\u001b[39;00m\u001b[33m. \u001b[39m\u001b[38;5;132;01m{\u001b[39;00mcontexto[\u001b[33m'\u001b[39m\u001b[33mSubtemas\u001b[39m\u001b[33m'\u001b[39m]\u001b[38;5;132;01m}\u001b[39;00m\u001b[33m. \u001b[39m\u001b[38;5;132;01m{\u001b[39;00mResumen\u001b[38;5;132;01m}\u001b[39;00m\u001b[33m. \u001b[39m\u001b[38;5;132;01m{\u001b[39;00mConclusion\u001b[38;5;132;01m}\u001b[39;00m\u001b[33m.\u001b[39m\u001b[33m\"\u001b[39m\n\u001b[32m      6\u001b[39m tts = gTTS(text=texto_audio, lang=\u001b[33m'\u001b[39m\u001b[33mes\u001b[39m\u001b[33m'\u001b[39m)\n",
      "\u001b[36mFile \u001b[39m\u001b[32mc:\\Users\\Ronald2108\\Downloads\\Curso-de-Python\\.venv\\Lib\\site-packages\\docx2pdf\\__init__.py:106\u001b[39m, in \u001b[36mconvert\u001b[39m\u001b[34m(input_path, output_path, keep_active)\u001b[39m\n\u001b[32m    104\u001b[39m     \u001b[38;5;28;01mreturn\u001b[39;00m macos(paths, keep_active)\n\u001b[32m    105\u001b[39m \u001b[38;5;28;01melif\u001b[39;00m sys.platform == \u001b[33m\"\u001b[39m\u001b[33mwin32\u001b[39m\u001b[33m\"\u001b[39m:\n\u001b[32m--> \u001b[39m\u001b[32m106\u001b[39m     \u001b[38;5;28;01mreturn\u001b[39;00m \u001b[43mwindows\u001b[49m\u001b[43m(\u001b[49m\u001b[43mpaths\u001b[49m\u001b[43m,\u001b[49m\u001b[43m \u001b[49m\u001b[43mkeep_active\u001b[49m\u001b[43m)\u001b[49m\n\u001b[32m    107\u001b[39m \u001b[38;5;28;01melse\u001b[39;00m:\n\u001b[32m    108\u001b[39m     \u001b[38;5;28;01mraise\u001b[39;00m \u001b[38;5;167;01mNotImplementedError\u001b[39;00m(\n\u001b[32m    109\u001b[39m         \u001b[33m\"\u001b[39m\u001b[33mdocx2pdf is not implemented for linux as it requires Microsoft Word to be installed\u001b[39m\u001b[33m\"\u001b[39m\n\u001b[32m    110\u001b[39m     )\n",
      "\u001b[36mFile \u001b[39m\u001b[32mc:\\Users\\Ronald2108\\Downloads\\Curso-de-Python\\.venv\\Lib\\site-packages\\docx2pdf\\__init__.py:19\u001b[39m, in \u001b[36mwindows\u001b[39m\u001b[34m(paths, keep_active)\u001b[39m\n\u001b[32m     16\u001b[39m \u001b[38;5;28;01mdef\u001b[39;00m\u001b[38;5;250m \u001b[39m\u001b[34mwindows\u001b[39m(paths, keep_active):\n\u001b[32m     17\u001b[39m     \u001b[38;5;28;01mimport\u001b[39;00m\u001b[38;5;250m \u001b[39m\u001b[34;01mwin32com\u001b[39;00m\u001b[34;01m.\u001b[39;00m\u001b[34;01mclient\u001b[39;00m\n\u001b[32m---> \u001b[39m\u001b[32m19\u001b[39m     word = \u001b[43mwin32com\u001b[49m\u001b[43m.\u001b[49m\u001b[43mclient\u001b[49m\u001b[43m.\u001b[49m\u001b[43mDispatch\u001b[49m\u001b[43m(\u001b[49m\u001b[33;43m\"\u001b[39;49m\u001b[33;43mWord.Application\u001b[39;49m\u001b[33;43m\"\u001b[39;49m\u001b[43m)\u001b[49m\n\u001b[32m     20\u001b[39m     wdFormatPDF = \u001b[32m17\u001b[39m\n\u001b[32m     22\u001b[39m     \u001b[38;5;28;01mif\u001b[39;00m paths[\u001b[33m\"\u001b[39m\u001b[33mbatch\u001b[39m\u001b[33m\"\u001b[39m]:\n",
      "\u001b[36mFile \u001b[39m\u001b[32mc:\\Users\\Ronald2108\\Downloads\\Curso-de-Python\\.venv\\Lib\\site-packages\\win32com\\client\\__init__.py:116\u001b[39m, in \u001b[36mDispatch\u001b[39m\u001b[34m(dispatch, userName, resultCLSID, typeinfo, clsctx)\u001b[39m\n\u001b[32m    108\u001b[39m \u001b[38;5;28;01mdef\u001b[39;00m\u001b[38;5;250m \u001b[39m\u001b[34mDispatch\u001b[39m(\n\u001b[32m    109\u001b[39m     dispatch,\n\u001b[32m    110\u001b[39m     userName=\u001b[38;5;28;01mNone\u001b[39;00m,\n\u001b[32m   (...)\u001b[39m\u001b[32m    113\u001b[39m     clsctx=pythoncom.CLSCTX_SERVER,\n\u001b[32m    114\u001b[39m ):\n\u001b[32m    115\u001b[39m \u001b[38;5;250m    \u001b[39m\u001b[33;03m\"\"\"Creates a Dispatch based COM object.\"\"\"\u001b[39;00m\n\u001b[32m--> \u001b[39m\u001b[32m116\u001b[39m     dispatch, userName = \u001b[43mdynamic\u001b[49m\u001b[43m.\u001b[49m\u001b[43m_GetGoodDispatchAndUserName\u001b[49m\u001b[43m(\u001b[49m\u001b[43mdispatch\u001b[49m\u001b[43m,\u001b[49m\u001b[43m \u001b[49m\u001b[43muserName\u001b[49m\u001b[43m,\u001b[49m\u001b[43m \u001b[49m\u001b[43mclsctx\u001b[49m\u001b[43m)\u001b[49m\n\u001b[32m    117\u001b[39m     \u001b[38;5;28;01mreturn\u001b[39;00m __WrapDispatch(dispatch, userName, resultCLSID, typeinfo, clsctx=clsctx)\n",
      "\u001b[36mFile \u001b[39m\u001b[32mc:\\Users\\Ronald2108\\Downloads\\Curso-de-Python\\.venv\\Lib\\site-packages\\win32com\\client\\dynamic.py:101\u001b[39m, in \u001b[36m_GetGoodDispatchAndUserName\u001b[39m\u001b[34m(IDispatch, userName, clsctx)\u001b[39m\n\u001b[32m     98\u001b[39m     \u001b[38;5;66;03m## ??? else userName remains None ???\u001b[39;00m\n\u001b[32m     99\u001b[39m \u001b[38;5;28;01melse\u001b[39;00m:\n\u001b[32m    100\u001b[39m     userName = \u001b[38;5;28mstr\u001b[39m(userName)\n\u001b[32m--> \u001b[39m\u001b[32m101\u001b[39m \u001b[38;5;28;01mreturn\u001b[39;00m (\u001b[43m_GetGoodDispatch\u001b[49m\u001b[43m(\u001b[49m\u001b[43mIDispatch\u001b[49m\u001b[43m,\u001b[49m\u001b[43m \u001b[49m\u001b[43mclsctx\u001b[49m\u001b[43m)\u001b[49m, userName)\n",
      "\u001b[36mFile \u001b[39m\u001b[32mc:\\Users\\Ronald2108\\Downloads\\Curso-de-Python\\.venv\\Lib\\site-packages\\win32com\\client\\dynamic.py:83\u001b[39m, in \u001b[36m_GetGoodDispatch\u001b[39m\u001b[34m(IDispatch, clsctx)\u001b[39m\n\u001b[32m     81\u001b[39m         IDispatch = pythoncom.connect(IDispatch)\n\u001b[32m     82\u001b[39m     \u001b[38;5;28;01mexcept\u001b[39;00m pythoncom.ole_error:\n\u001b[32m---> \u001b[39m\u001b[32m83\u001b[39m         IDispatch = \u001b[43mpythoncom\u001b[49m\u001b[43m.\u001b[49m\u001b[43mCoCreateInstance\u001b[49m\u001b[43m(\u001b[49m\n\u001b[32m     84\u001b[39m \u001b[43m            \u001b[49m\u001b[43mIDispatch\u001b[49m\u001b[43m,\u001b[49m\u001b[43m \u001b[49m\u001b[38;5;28;43;01mNone\u001b[39;49;00m\u001b[43m,\u001b[49m\u001b[43m \u001b[49m\u001b[43mclsctx\u001b[49m\u001b[43m,\u001b[49m\u001b[43m \u001b[49m\u001b[43mpythoncom\u001b[49m\u001b[43m.\u001b[49m\u001b[43mIID_IDispatch\u001b[49m\n\u001b[32m     85\u001b[39m \u001b[43m        \u001b[49m\u001b[43m)\u001b[49m\n\u001b[32m     86\u001b[39m \u001b[38;5;28;01melse\u001b[39;00m:\n\u001b[32m     87\u001b[39m     \u001b[38;5;66;03m# may already be a wrapped class.\u001b[39;00m\n\u001b[32m     88\u001b[39m     IDispatch = \u001b[38;5;28mgetattr\u001b[39m(IDispatch, \u001b[33m\"\u001b[39m\u001b[33m_oleobj_\u001b[39m\u001b[33m\"\u001b[39m, IDispatch)\n",
      "\u001b[31mcom_error\u001b[39m: (-2147221008, 'No se ha llamado a CoInitialize.', None, None)"
     ]
    }
   ],
   "source": [
    "doc.render(contexto)\n",
    "doc.save('guion_presentacion.docx')\n",
    "convert('guion_presentacion.docx')\n",
    "\n",
    "texto_audio = f\"{Tema}. {contexto['Subtemas']}. {Resumen}. {Conclusion}.\"\n",
    "tts = gTTS(text=texto_audio, lang='es')\n",
    "tts.save('guion_presentacion.mp3')"
   ]
  }
 ],
 "metadata": {
  "kernelspec": {
   "display_name": ".venv",
   "language": "python",
   "name": "python3"
  },
  "language_info": {
   "codemirror_mode": {
    "name": "ipython",
    "version": 3
   },
   "file_extension": ".py",
   "mimetype": "text/x-python",
   "name": "python",
   "nbconvert_exporter": "python",
   "pygments_lexer": "ipython3",
   "version": "3.11.9"
  }
 },
 "nbformat": 4,
 "nbformat_minor": 5
}
